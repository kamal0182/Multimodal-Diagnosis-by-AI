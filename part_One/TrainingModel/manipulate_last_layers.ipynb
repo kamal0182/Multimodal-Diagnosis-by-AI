{
 "cells": [
  {
   "metadata": {},
   "cell_type": "markdown",
   "source": "expecting to import googleNet model",
   "id": "c62d04490bf43251"
  },
  {
   "cell_type": "code",
   "execution_count": null,
   "id": "initial_id",
   "metadata": {
    "collapsed": true
   },
   "outputs": [],
   "source": [
    "from torch.optim import Adam\n",
    "# import model from path\n",
    "import torchvision.models as models\n",
    "import torch.nn as nn\n",
    "model = models.googlenet(pretrained=True)\n",
    "num_ftrs = model.fc.in_features\n",
    "model.fc = nn.Sequential(\n",
    "    nn.Linear(num_ftrs, 4)\n",
    ")\n",
    "model.compile(\n",
    "    optimizer=Adam(learning_rate=0.001),\n",
    "    loss='CrossEntropyLoss',\n",
    "    metrics=['accuracy']\n",
    ")"
   ]
  },
  {
   "metadata": {},
   "cell_type": "code",
   "outputs": [],
   "execution_count": null,
   "source": [
    "from path import X_train , y_train , X_test , y_test\n",
    "import keras\n",
    "import time\n",
    "start = time.time()\n",
    "EPOCHS =  25\n",
    "checkpoint_filepath = 'checkpoints/model1/checkpoint_epoch_{epoch:02d}.model.keras'\n",
    "\n",
    "model_checkpoint_callback = keras.callbacks.ModelCheckpoint(\n",
    "    filepath=checkpoint_filepath,\n",
    "    monitor='val_accuracy',\n",
    "    mode='max',\n",
    "    save_best_only=False,\n",
    "    save_weights_only=False,\n",
    "    verbose=1\n",
    ")\n",
    "\n",
    "history = model.fit(\n",
    "        X_train,\n",
    "        y_train,\n",
    "        batch_size=16,\n",
    "        epochs=EPOCHS,\n",
    "        validation_split= 0.5,\n",
    "        callbacks = [model_checkpoint_callback]\n",
    "    )\n",
    "\n",
    "end = time.time()\n",
    "print(\"Temps total d'entraînement :\", (end - start)/60, \"minutes\")"
   ],
   "id": "bebba534b64a5080"
  },
  {
   "metadata": {},
   "cell_type": "code",
   "outputs": [],
   "execution_count": null,
   "source": [
    "loss, accuracy = model.evaluate(X_test, y_test , batch_size  = 32)\n",
    "print(f\" Perte (loss) sur le test : {loss:.4f}\")\n",
    "print(f\" Précision (accuracy) sur le test : {accuracy*100:.2f}%\")"
   ],
   "id": "42440bd6bcc2240f"
  },
  {
   "metadata": {},
   "cell_type": "code",
   "outputs": [],
   "execution_count": null,
   "source": [
    "import numpy as np\n",
    "import matplotlib.pyplot as plt\n",
    "from sklearn.metrics import confusion_matrix, classification_report\n",
    "import seaborn as sns\n",
    "\n",
    "\n",
    "print(\"\\nGénération des prédictions pour la matrice de confusion...\")\n",
    "y_pred = model.predict(X_test, batch_size=32)\n",
    "y_pred_classes = np.argmax(y_pred, axis=1)\n",
    "y_true_classes = np.argmax(y_test, axis=1) if len(y_test.shape) > 1 else y_test\n",
    "\n",
    "cm = confusion_matrix(y_true_classes, y_pred_classes)\n",
    "\n",
    "plt.figure(figsize=(10, 8))\n",
    "sns.heatmap(cm, annot=True, fmt='d', cmap='Blues', cbar_kws={'label': 'Count'})\n",
    "plt.title('Matrice de Confusion', fontsize=16, fontweight='bold', pad=20)\n",
    "plt.ylabel('Classe Réelle', fontsize=12)\n",
    "plt.xlabel('Classe Prédite', fontsize=12)\n"
   ],
   "id": "a2c5de1d04c1e0e1"
  }
 ],
 "metadata": {
  "kernelspec": {
   "display_name": "Python 3",
   "language": "python",
   "name": "python3"
  },
  "language_info": {
   "codemirror_mode": {
    "name": "ipython",
    "version": 2
   },
   "file_extension": ".py",
   "mimetype": "text/x-python",
   "name": "python",
   "nbconvert_exporter": "python",
   "pygments_lexer": "ipython2",
   "version": "2.7.6"
  }
 },
 "nbformat": 4,
 "nbformat_minor": 5
}
