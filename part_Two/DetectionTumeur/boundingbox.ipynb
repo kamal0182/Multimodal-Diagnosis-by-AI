{
 "cells": [
  {
   "cell_type": "code",
   "id": "initial_id",
   "metadata": {
    "collapsed": true,
    "ExecuteTime": {
     "end_time": "2025-10-22T11:00:32.494687Z",
     "start_time": "2025-10-22T11:00:24.541286Z"
    }
   },
   "source": "pip install opencv-python numpy",
   "outputs": [
    {
     "name": "stdout",
     "output_type": "stream",
     "text": [
      "Looking in indexes: https://pypi.org/simple, https://pypi.ngc.nvidia.com\n",
      "Requirement already satisfied: opencv-python in c:\\users\\boume\\appdata\\local\\programs\\python\\python313\\lib\\site-packages (4.12.0.88)\n",
      "Requirement already satisfied: numpy in c:\\users\\boume\\appdata\\local\\programs\\python\\python313\\lib\\site-packages (2.2.6)\n",
      "Note: you may need to restart the kernel to use updated packages.\n"
     ]
    }
   ],
   "execution_count": 1
  },
  {
   "metadata": {},
   "cell_type": "code",
   "outputs": [],
   "execution_count": null,
   "source": "",
   "id": "3606f5740c10ecd0"
  },
  {
   "metadata": {
    "ExecuteTime": {
     "end_time": "2025-10-22T11:28:06.129785Z",
     "start_time": "2025-10-22T11:28:06.125049Z"
    }
   },
   "cell_type": "code",
   "source": [
    "import cv2\n",
    "import os\n",
    "\n",
    "import numpy as np"
   ],
   "id": "c71790637047ca28",
   "outputs": [],
   "execution_count": 8
  },
  {
   "metadata": {
    "ExecuteTime": {
     "end_time": "2025-10-22T11:45:12.189960Z",
     "start_time": "2025-10-22T11:45:12.170689Z"
    }
   },
   "cell_type": "code",
   "source": [
    "PATH = 'C:\\\\Users\\\\boume\\\\Multimodal-Diagnosis-by-AI\\\\Data\\\\Data_Brain\\\\Train'\n",
    "classes = os.listdir(PATH)\n",
    "labels_data = {}\n",
    "data = {}\n",
    "for cls in classes :\n",
    "    LABEL_PATH = PATH+'\\\\'+cls+'\\\\labels'\n",
    "    labels = os.listdir(LABEL_PATH)\n",
    "    i = 0\n",
    "    for lbl in labels[:3] :\n",
    "\n",
    "        contenue = ''\n",
    "        with open(LABEL_PATH+'\\\\'+lbl) as f :\n",
    "            contenue += f.read()\n",
    "            split_content = contenue.split(' ')\n",
    "            clean_last_word = split_content[-1].split('\\n')\n",
    "            print(clean_last_word)\n",
    "            split_content[-1] = clean_last_word[0]\n",
    "        next = {i:split_content}\n",
    "        data.update(next)\n",
    "\n",
    "        i = i+1\n",
    "    labels_data[cls] = data\n",
    "\n",
    "labels_data"
   ],
   "id": "7d8b77efc9c33c86",
   "outputs": [
    {
     "name": "stdout",
     "output_type": "stream",
     "text": [
      "['0.148438', '']\n",
      "['0.132812', '']\n",
      "['0.164062', '']\n",
      "['0.115234', '']\n",
      "['0.101562', '']\n",
      "['0.177734', '']\n",
      "['0.648571', '']\n",
      "['0.973899', '']\n",
      "['0.984797', '']\n",
      "['0.050781', '']\n",
      "['0.072266', '']\n",
      "['0.132812', '']\n"
     ]
    },
    {
     "data": {
      "text/plain": [
       "{'Glioma': {0: ['3', '0.507812', '0.441406', '0.093750', '0.050781'],\n",
       "  1: ['3', '0.512695', '0.381836', '0.087891', '0.072266'],\n",
       "  2: ['3', '0.485352', '0.615234', '0.103516', '0.132812']},\n",
       " 'Meningioma': {0: ['3', '0.507812', '0.441406', '0.093750', '0.050781'],\n",
       "  1: ['3', '0.512695', '0.381836', '0.087891', '0.072266'],\n",
       "  2: ['3', '0.485352', '0.615234', '0.103516', '0.132812']},\n",
       " 'No Tumor': {0: ['3', '0.507812', '0.441406', '0.093750', '0.050781'],\n",
       "  1: ['3', '0.512695', '0.381836', '0.087891', '0.072266'],\n",
       "  2: ['3', '0.485352', '0.615234', '0.103516', '0.132812']},\n",
       " 'Pituitary': {0: ['3', '0.507812', '0.441406', '0.093750', '0.050781'],\n",
       "  1: ['3', '0.512695', '0.381836', '0.087891', '0.072266'],\n",
       "  2: ['3', '0.485352', '0.615234', '0.103516', '0.132812']}}"
      ]
     },
     "execution_count": 24,
     "metadata": {},
     "output_type": "execute_result"
    }
   ],
   "execution_count": 24
  }
 ],
 "metadata": {
  "kernelspec": {
   "display_name": "Python 3",
   "language": "python",
   "name": "python3"
  },
  "language_info": {
   "codemirror_mode": {
    "name": "ipython",
    "version": 2
   },
   "file_extension": ".py",
   "mimetype": "text/x-python",
   "name": "python",
   "nbconvert_exporter": "python",
   "pygments_lexer": "ipython2",
   "version": "2.7.6"
  }
 },
 "nbformat": 4,
 "nbformat_minor": 5
}
